{
 "cells": [
  {
   "cell_type": "markdown",
   "metadata": {},
   "source": [
    "# Homework 2 (Due Sep. 27) \n",
    "Problems marked with a (\\*) are only required for graduate students.  Undergrads may undertake them for extra credit worth half the problems point value, with no penalties incurred for an incorrect answer."
   ]
  },
  {
   "cell_type": "markdown",
   "metadata": {},
   "source": [
    "## 1. Bayesian Networks/Conditional Probability"
   ]
  },
  {
   "cell_type": "markdown",
   "metadata": {},
   "source": [
    "Consider three binary variables $a, b, c \\in \\{0, 1\\}$ having the joint distribution given by  "
   ]
  },
  {
   "cell_type": "code",
   "execution_count": 1,
   "metadata": {},
   "outputs": [],
   "source": [
    "import numpy as np\n",
    "import networkx as nx\n",
    "import matplotlib.pyplot as plt\n",
    "\n",
    "#        | a | b | c | P(a,b,c)\n",
    "P_table = (\n",
    "np.array([[0,  0,  0,  0.192 ],\n",
    "          [0,  0,  1,  0.144 ],\n",
    "          [0,  1,  0,  0.048 ],\n",
    "          [0,  1,  1,  0.216 ],\n",
    "          [1,  0,  0,  0.192 ],\n",
    "          [1,  0,  1,  0.064 ],\n",
    "          [1,  1,  0,  0.048 ],\n",
    "          [1,  1,  1,  0.096 ]]))\n",
    "\n",
    "# Convert P_table (which is a probability table) to a probability array, which \n",
    "# is much more computationally sensible for a discrete valued distribution\n",
    "P_abc = np.zeros((2,2,2))\n",
    "for entry in P_table:\n",
    "    a = int(entry[0])\n",
    "    b = int(entry[1])\n",
    "    c = int(entry[2])\n",
    "    P = entry[3]\n",
    "    P_abc[a,b,c] = P"
   ]
  },
  {
   "cell_type": "markdown",
   "metadata": {},
   "source": [
    "Note that you may want to use the following functions to help you in the following problem:"
   ]
  },
  {
   "cell_type": "code",
   "execution_count": 2,
   "metadata": {},
   "outputs": [],
   "source": [
    "def marginalize(P,variables_to_marginalize=(),keepdims=False):\n",
    "    \"\"\" Marginalize a probability table, i.e. compute P(a,b) = sum_c P(a,b,c) \n",
    "    \n",
    "        Arguments: \n",
    "        \n",
    "        P (array) -> a probability array in which the dimensions correspond to random variables,\n",
    "                     the indices to variable values, and the entries to probabilities\n",
    "        variables_to_marginalize (tuple) -> a list of integers containing the \n",
    "                                    variable numbers to marginalize over\n",
    "        keepdims (boolean) -> Marginalization reduces the dimensionality of the distribution.  keepdims=False\n",
    "                       removes that dimension from the array indexing scheme.  For example P(a,b,c) has\n",
    "                       an array that is 2x2x2.  If we marginalize over variable/index 1 (aka b), then the \n",
    "                       resulting array P(a,c) is 2x2 if keepdims=False (which may change the index of a \n",
    "                       given variable.  For example, after marginalizing, variable/index 1 is now c).  \n",
    "                       Conversely, the array becomes 2x1x2 if keepdims=True.\n",
    "    \n",
    "    \"\"\"\n",
    "    # Sum over the axes given in variables_to_marginalize\n",
    "    return np.sum(P,axis=variables_to_marginalize,keepdims=keepdims)\n",
    "\n",
    "def condition(P,variables_to_condition=()):\n",
    "    \"\"\" Condition a probability table, i.e. compute P(a|c) = P(a,c)/P(c) \n",
    "    \n",
    "        Arguments: \n",
    "        \n",
    "        P (array) -> a probability array in which the dimensions correspond to random variables,\n",
    "                     the indices to variable values, and the entries to probabilities\n",
    "        variables_to_condition (tuple) -> a list of integers containing the variables to condition on\n",
    "        \n",
    "        NOTE: This function always returns an array that is the same size as the input.  However, this array\n",
    "        no longer sums to one as does an unconditioned joint distribution.  Instead, it sums to one only given\n",
    "        a particular value of the conditioned variable/index.  For example:\n",
    "        \n",
    "        P_abc.sum()==1 -> True\n",
    "        P_ab_given_c = condition(P_abc,variables_to_condition=(2,))\n",
    "        P_ab_given_c.sum()==1 -> False\n",
    "        P_ab_given_c[:,:,0].sum()==1 -> True\n",
    "        P_ab_given_c[:,:,1].sum()==1 -> True\n",
    "   \n",
    "    \"\"\"\n",
    "    # find the variables to marginalize over to get the marginal distribuion of the\n",
    "    # variables that we wish to condition on\n",
    "    v_to_m = list(range(P.ndim))\n",
    "    for v in variables_to_condition:\n",
    "        v_to_m.remove(v)\n",
    "    # Compute the conditional by dividing the input by the output\n",
    "    return P/marginalize(P,variables_to_marginalize=tuple(v_to_m),keepdims=True)\n",
    "    \n",
    "P_ab = marginalize(P_abc,variables_to_marginalize=(0,))\n",
    "P_a_given_b = condition(P_ab,variables_to_condition=(1,))"
   ]
  },
  {
   "cell_type": "markdown",
   "metadata": {},
   "source": [
    "### Joint distribution equivalency (20 pts)\n",
    "Show by direct evaluation that $P(a,b,c) = P(a)P(c|a)P(b|c)$ for all values of $a$,$b$, and $c$."
   ]
  },
  {
   "cell_type": "code",
   "execution_count": 3,
   "metadata": {},
   "outputs": [
    {
     "name": "stdout",
     "output_type": "stream",
     "text": [
      "*** P(0, 0, 0) *** \n",
      "Accepted: 0.192 \n",
      "Result: 0.192\n",
      "\n",
      "\n",
      "*** P(0, 0, 1) *** \n",
      "Accepted: 0.144 \n",
      "Result: 0.144\n",
      "\n",
      "\n",
      "*** P(0, 1, 0) *** \n",
      "Accepted: 0.048 \n",
      "Result: 0.048\n",
      "\n",
      "\n",
      "*** P(0, 1, 1) *** \n",
      "Accepted: 0.216 \n",
      "Result: 0.216\n",
      "\n",
      "\n",
      "*** P(1, 0, 0) *** \n",
      "Accepted: 0.192 \n",
      "Result: 0.192\n",
      "\n",
      "\n",
      "*** P(1, 0, 1) *** \n",
      "Accepted: 0.064 \n",
      "Result: 0.064\n",
      "\n",
      "\n",
      "*** P(1, 1, 0) *** \n",
      "Accepted: 0.048 \n",
      "Result: 0.048\n",
      "\n",
      "\n",
      "*** P(1, 1, 1) *** \n",
      "Accepted: 0.096 \n",
      "Result: 0.096\n",
      "\n",
      "\n"
     ]
    }
   ],
   "source": [
    "P_A = marginalize(P_abc, variables_to_marginalize=(1,2))\n",
    "\n",
    "P_ac = marginalize(P_abc, variables_to_marginalize=(1,), keepdims=True) # we want to sum out P(B)\n",
    "P_C_Given_A = condition(P_ac, variables_to_condition=(0,)) # condition on A\n",
    "\n",
    "P_bc = marginalize(P_abc, variables_to_marginalize=(0,), keepdims=True) # we want to 'sum out' P(A)\n",
    "P_B_Given_C = condition(P_bc, variables_to_condition=(2,)) # condition on C\n",
    "\n",
    "def compareProbabilities(a, b, c):\n",
    "    values = str(a) + ', ' + str(b) + ', ' + str(c) # this is just a label\n",
    "    prob = P_A[a] * P_C_Given_A[a,:,c].sum() * P_B_Given_C[:,b,c].sum() # this is where we actually compute P(a)P(c|a)P(b|c)\n",
    "    accepted = P_abc[a][b][c] # get the accepted value of P(a, b, c) from P_abc\n",
    "    return '*** P(' + values + ') *** \\nAccepted: ' + str(accepted) + ' \\nResult: ' + str(prob) + '\\n\\n'\n",
    "\n",
    "for a in [0,1]:\n",
    "    for b in [0,1]:\n",
    "        for c in [0,1]:\n",
    "            print(compareProbabilities(a, b, c))"
   ]
  },
  {
   "cell_type": "markdown",
   "metadata": {},
   "source": [
    "### Graph Visualization (10 pts)\n",
    "\n",
    "Visualize the corresponding directed graph, either using graph software like [networkx](https://networkx.github.io/) or drawing it by hand."
   ]
  },
  {
   "cell_type": "code",
   "execution_count": null,
   "metadata": {},
   "outputs": [
    {
     "data": {
      "text/plain": [
       "{1: Text(0.54945505, 0.15135768, '$a$'),\n",
       " 2: Text(0.20575133, 0.60428864, '$b$'),\n",
       " 3: Text(0.26305404, 0.42732534, '$c$')}"
      ]
     },
     "execution_count": 5,
     "metadata": {},
     "output_type": "execute_result"
    }
   ],
   "source": [
    "DG = nx.DiGraph()\n",
    "DG.add_weighted_edges_from([(1, 3, 1), (3, 2, 1)])\n",
    "DG.out_degree(1, weight='weight')\n",
    "pos=nx.random_layout(DG)\n",
    "plt.subplot(121)\n",
    "nx.draw(DG, \n",
    "        pos, \n",
    "        node_color='r',\n",
    "        node_size=500,\n",
    "        alpha=0.3)\n",
    "\n",
    "labels={}\n",
    "labels[1]=r'$a$'\n",
    "labels[2]=r'$b$'\n",
    "labels[3]=r'$c$'\n",
    "nx.draw_networkx_labels(DG,pos,labels,font_size=16)"
   ]
  },
  {
   "cell_type": "markdown",
   "metadata": {},
   "source": [
    "### A Trick Question in Graphs (\\*) (10 pts)\n",
    "Plot the graph associated with\n",
    "$$\n",
    "P(A,B,C,D,E) = P(A)P(C)P(B|A,C)P(D|C)P(E|D),\n",
    "$$\n",
    "where $A,B,C,D,E \\in \\{0,1\\}$ with conditional probability tables\n",
    "\\begin{align}\n",
    "P(A=1) &= 0.3 \\nonumber \\\\\n",
    "P(C=1) &= 0.7 \\nonumber \\\\\n",
    "P(B=1|A,C) &= \\begin{cases} 0.3\\,\\mathrm{if}\\,A=0,C=0\\\\\n",
    "                          0.7\\,\\mathrm{if}\\,A=1,C=0\\\\\n",
    "                          0.1\\,\\mathrm{if}\\,A=0,C=1\\\\\n",
    "                          0.9\\,\\mathrm{if}\\,A=1,C=1 \\end{cases} \\nonumber \\\\\n",
    "P(D=1|C) &= \\begin{cases}   0.4\\,\\mathrm{if}\\,C=0\\\\\n",
    "                          0.2\\,\\mathrm{if}\\,C=1 \\end{cases} \\nonumber \\\\\n",
    "P(E=1|D) &= \\begin{cases}   0.1\\,\\mathrm{if}\\,D=0\\\\\n",
    "                          0.1\\,\\mathrm{if}\\,D=1 \\end{cases}. \\nonumber\n",
    "\\end{align}\n",
    "Compute the probability $P(A=1|E=1,C=1)$.  Be sure to think carefully about conditional independence before pulling out your calculator."
   ]
  },
  {
   "cell_type": "code",
   "execution_count": 6,
   "metadata": {},
   "outputs": [
    {
     "data": {
      "text/plain": [
       "{1: Text(1.0, 2.3841858265427618e-08, '$a$'),\n",
       " 2: Text(0.30901697278022766, 0.9510565400123596, '$b$'),\n",
       " 3: Text(-0.8090170621871948, 0.5877851843833923, '$c$'),\n",
       " 4: Text(-0.8090169429779053, -0.5877853631973267, '$d$'),\n",
       " 5: Text(0.3090171217918396, -0.9510564804077148, '$e$')}"
      ]
     },
     "execution_count": 6,
     "metadata": {},
     "output_type": "execute_result"
    },
    {
     "data": {
      "image/png": "[encoded data removed]",
      "text/plain": [
       "<Figure size 432x288 with 1 Axes>"
      ]
     },
     "metadata": {},
     "output_type": "display_data"
    }
   ],
   "source": [
    "DG2 = nx.DiGraph()\n",
    "DG2.add_weighted_edges_from([(1, 2, 1), (3, 2, 1), (3, 4, 1), (4, 5, 1)]) #, (3, 2, 1), (3, 4, 1), (4, 5, 1)\n",
    "DG2.out_degree(1, weight='weight')\n",
    "pos=nx.shell_layout(DG2)\n",
    "plt.subplot(121)\n",
    "nx.draw(DG2, \n",
    "        pos, \n",
    "        node_color='r',\n",
    "        node_size=500,\n",
    "        alpha=0.5)\n",
    "\n",
    "labels={}\n",
    "labels[1]=r'$a$'\n",
    "labels[2]=r'$b$'\n",
    "labels[3]=r'$c$'\n",
    "labels[4]=r'$d$'\n",
    "labels[5]=r'$e$'\n",
    "\n",
    "nx.draw_networkx_labels(DG2,pos,labels,font_size=16)"
   ]
  },
  {
   "cell_type": "markdown",
   "metadata": {},
   "source": [
    "## 2.Gene Sequence Clustering"
   ]
  },
  {
   "cell_type": "markdown",
   "metadata": {},
   "source": [
    "### 2a. Training a Markov model (40 pts)\n",
    "Load the file genes\\_training.p, which is available in this homework archive.  genes\\_training.p contains 2000 sequences, with each sequence $\\mathbf{s}$ consisting of 20 nucleobases $s_i \\in \\mathrm{Nu},\\; \\mathrm{Nu} = \\{A,T,G,C\\}$.  Each of these sequences is generated from one of two separate Markov processes.  The label (aka class) of the process that generated the sequence is given in the dataset. \n",
    "\n",
    "Learn the Markov model for each class given the training data.  **To do this, for each class compute the prior probability $\\mathbf{\\pi}_c$ of each nucleobase (the relative frequency of each nucleobase for each class, a vector of length 4) and the matrix of transition probabilities** \n",
    "$$\n",
    "\\mathcal{A}_{c,kj} = P(s_{i+1}=\\mathrm{Nu}_j|s_{i}=\\mathrm{Nu}_k),\n",
    "$$ \n",
    "which is a 4 by 4 matrix.  As a quick sanity check, each row of $\\mathcal{A}_c$ should sum to one.  **Using these priors and transition matrices, write a function that generates a new sequence given the class**, i.e. simulates a data point. "
   ]
  },
  {
   "cell_type": "code",
   "execution_count": 7,
   "metadata": {},
   "outputs": [
    {
     "name": "stdout",
     "output_type": "stream",
     "text": [
      "**********\n",
      "Prior Probability of Nucleobase Appearance\n",
      "**********\n",
      "\n",
      "A: 0.28145\n",
      "T: 0.26535\n",
      "G: 0.31195\n",
      "C: 0.14125\n",
      "\n",
      "Random Sequence: AGAGATCTGTCTCACGTCTG\n",
      "\n",
      "**********\n",
      "Observed Frequencies in Random Sequence\n",
      "**********\n",
      "\n",
      "A: 0.2\n",
      "T: 0.3\n",
      "G: 0.25\n",
      "C: 0.25\n"
     ]
    }
   ],
   "source": [
    "import pickle\n",
    "import numpy as np\n",
    "\n",
    "# Define some useful constants\n",
    "N_nucleobases = 4\n",
    "N_classes = 2\n",
    "nucleobases = ['A','T','G','C']\n",
    "\n",
    "# Load the training data using pickle\n",
    "sequences,labels = pickle.load(open('genes_training.p','rb'))\n",
    "\n",
    "# Initialize the class priors and transition matrices\n",
    "pi_0 = np.zeros((N_nucleobases))\n",
    "pi_1 = np.zeros((N_nucleobases))\n",
    "\n",
    "A_0 = np.zeros((N_nucleobases,N_nucleobases))\n",
    "A_1 = np.zeros((N_nucleobases,N_nucleobases))\n",
    "\n",
    "# **********************\n",
    "# This is a handy little function that I made to map a letter to an index in an array\n",
    "# **********************\n",
    "def mapping(letter):\n",
    "    if(letter == 'A'):\n",
    "        return 0\n",
    "    elif(letter == 'T'):\n",
    "        return 1\n",
    "    elif(letter == 'G'):\n",
    "        return 2\n",
    "    elif(letter == 'C'):\n",
    "        return 3\n",
    "\n",
    "##### Train prior #####\n",
    "\n",
    "# Loop over all of the sequences and labels\n",
    "for s,l in zip(sequences,labels):\n",
    "    sequence_length = len(s)\n",
    "    for p in range(sequence_length):\n",
    "        #! s is a length 20 sequence of nucleobases.  For all s, count the number of times a given nucleobase appears\n",
    "        #! and record this information in the appropriate class prior (pi_0 or pi_1)\n",
    "        if(l == 0):\n",
    "            pi_0[mapping(s[p])] += 1\n",
    "        elif(l == 1):\n",
    "            pi_1[mapping(s[p])] += 1\n",
    "        pass\n",
    "\n",
    "# Convert from counts to probabilities by normalizing\n",
    "pi_0/=pi_0.sum()\n",
    "pi_1/=pi_1.sum()\n",
    "\n",
    "##### Train transition matrix #####\n",
    "for s,l in zip(sequences,labels):\n",
    "    sequence_length = len(s)\n",
    "    for p in range(sequence_length-1):\n",
    "        if(l == 0):\n",
    "            A_0[mapping(s[p])][mapping(s[p + 1])] += 1\n",
    "        elif(l== 1):\n",
    "            A_1[mapping(s[p])][mapping(s[p + 1])] += 1\n",
    "            pass\n",
    "        pass  \n",
    "        #! s is a length 20 sequence of nucleoboases, for all s, count the number of times that a nucleobase \n",
    "        #! transitions to another nucleobase and record this information in the appropriate transition matrix (A_0 or A_1)\n",
    "\n",
    "# Convert from counts to probabilities by row normalization\n",
    "A_0/=A_0.sum(axis=1)[:,np.newaxis]\n",
    "A_1/=A_1.sum(axis=1)[:,np.newaxis]\n",
    "\n",
    "##### Generate a synthetic sequence #####\n",
    "def generate_new_sequence(A,pi,n=20):\n",
    "    \"\"\"  \n",
    "    Arguments:\n",
    "    A -> Nucleobase transition matrix\n",
    "    pi -> Prior\n",
    "    n -> length of sequence to generate\n",
    "    \"\"\"\n",
    "    # Draw from the prior for the first nucleobase\n",
    "    s = [np.random.choice(nucleobases,p=pi)]\n",
    "    \n",
    "    print('**********\\nPrior Probability of Nucleobase Appearance\\n**********')\n",
    "    print('\\nA: ' + str(pi[mapping('A')]))\n",
    "    print('T: ' + str(pi[mapping('T')]))\n",
    "    print('G: ' + str(pi[mapping('G')]))\n",
    "    print('C: ' + str(pi[mapping('C')]))\n",
    "    \n",
    "    #! Write the code that uses the transition matrix to produce a length n sample\n",
    "    for i in range(0, n-1):\n",
    "        s += np.random.choice(nucleobases, p=A[mapping(s[i])])\n",
    "    \n",
    "    return s\n",
    "\n",
    "sequence = generate_new_sequence(A_0, pi_0, n=20)\n",
    "print(\"\\nRandom Sequence: \" + \"\".join(sequence) + \"\\n\")\n",
    "\n",
    "print('**********\\nObserved Frequencies in Random Sequence\\n**********')\n",
    "print(\"\\nA: \" + str(sequence.count('A')/20))\n",
    "print(\"T: \" + str(sequence.count('T')/20))\n",
    "print(\"G: \" + str(sequence.count('G')/20))\n",
    "print(\"C: \" + str(sequence.count('C')/20))"
   ]
  },
  {
   "cell_type": "markdown",
   "metadata": {},
   "source": [
    "<h2>Next bits...</h2>\n",
    "<p>Now I'm just playing around. If I generate a super long sequence (10,000 nucleobases), I want to see if the observed frequences of each nucleobase actually start to converge to the prior probabily that we would see a particular nucleobase given that we know what Markov process generated it. Not surprisingly, the observed frequencies get pretty close to what we would expect to see.</p>"
   ]
  },
  {
   "cell_type": "code",
   "execution_count": 8,
   "metadata": {},
   "outputs": [
    {
     "name": "stdout",
     "output_type": "stream",
     "text": [
      "**********\n",
      "Prior Probability of Nucleobase Appearance\n",
      "**********\n",
      "\n",
      "A: 0.28145\n",
      "T: 0.26535\n",
      "G: 0.31195\n",
      "C: 0.14125\n",
      "\n",
      "**********\n",
      "Observed Frequencies in Random Sequence\n",
      "**********\n",
      "\n",
      "A: 0.2828\n",
      "T: 0.2618\n",
      "G: 0.314\n",
      "C: 0.1414\n",
      "\n",
      "\n",
      "The sequence in question...\n",
      "\n",
      "GAAAGTCTTCCGGACGTCCCCGAGAGGGAGATGGGATAAGTATCGGTTTAGGGGTTCCCCTGGTGTGTCGTGTCCCCTTGAGTGAGATGAATGGTCCGAGGTTCCCGGTCGTGATTCCAGTTGTATCAGATATCTATGGGGGAGTCATGGTGGGTCTATCCAAAGAAGAGAGATGGTGTCGTTAGGGTGGATGGAAGAATCCGATTCGTGTTAATCGTCTGTCTCAAGAAAAGATGTCGAGTCGATGTAAGAGGGAATCGGCGGATCTGACAAGGACGGGAGGATGTCCTCGATCCATAAATAGGATATCCGGGAGGTCCCGTTGGTGTCGGATATGGGAGTCTGGATGTTAGTGAAGGGTATAGATGGTTCTGATCATGTCTAGAATGTGAGTCCGTGAGATGAAAGGTATGGTTCGTTCTCGGAAGGTTCGGTTTTTCCCTCTGTAGAGGAGGTGGGTCGAAGATCATCAGAGAGGGAGATATAGAATGGATCGATGTCATCCTCGATGTCCGGAGAGTCGAAGAAGAGGAGAGTAGGAAGTAGGATCCGATTGTTCTCAGTTAGGATGGGTCGAGAGAGGGTGGGTGGAGGAGATTAGAAAGAAGTTCAAAGTTGAGATCCCAGTGGTGAATGAGAAGAGACGATCCCGAACTGGAATAAAGAGAGTTTCTCGAAATCGTGGTTGAGTCATTCTAGATTCAGACCCGAGGTGTCAGTCTTATTTGTTATTTCCGAAAAGGTAGAATATCGATGATCCGAGATATGGATGTCGAGAAGGATCGAAGTCGAAGGGGAGTGAGATCATGGATATAGAGGTCGATAATATGGATAGTTTTATGTCTCTCTGTCGTTCTTTTGGAGAGGTGATCATCGTCTGACAGGAATGTGAGAGAGATGAAGTAGATCGGGAGGGTCTCGTATCGGAGGAAAAGTCATCGAAGGAGTCGTGAGTGGACATGTGGATGGATCATCCCTGATTTATGTAAATGGAATCAACTCTATAGTCAGATCGAAGAATGTTATGATCTGATCGTCTCGTGTAGTCTAGGTTAGGATGGTTGATGGTTTCATCGGGTTTTCCCGAAATTGTTTGGTGAGGATTCATGATCGTGGGTTCTCCGAATATCGTCCTATCAATCTCATCTCCAGAGGTTGTCTGATCTCGAATAGGATCAGAGATCCCGATCTTCAGAGTAGAGAAGAGATGAGAGTCCGGAATCCGAGTGATCTTTCCCGATCGTCCGAATTTAGAGATCGAGGAACGTCTAGAGGATAGGTAGAGAAGATGGGTGTGTATGATATCGTATGTTAAATGGATGTCCTAGTCAGTAATAAGGAGAAGGAGGTGAGATTCGATCTAAGTTATCGTCCCCGGGAATAGAGTGAAGGGAGAGAATGTTTGTTCCATTCAGATTTGGCCCATGAATATGTCGAGAGAGAGAGTGTCTGATGTGGAGATGATGTCCCTCGTCATTCGTCGGAAGTCCAGGAGTCCTGATCATGTCGTCTATATGGTCGACGAAAGGATGAGAAAGGGAGAATGTCATCTGAGATTGGATAGAGAGTCCCGGTAGGAAGAATGTGATGTATCCTCCTGTTCCCTTTCATCGGTCTGGAACGTCAAAGTGATCTTGGGATCCAGTCTCGATTGGAGATTGGTATAGAAATTAGAGATTCTCCTCTCCCTCGGTCTTCGAGGAGAGATGGAACAGATGGAATAAGGAGAAGATGGTCATCCTTGATTGACATTGATCGAGTCGAATAGGGTTCCGAGTGTATGAGTGGAAGTTTGAATCCTGGTCGATTCCGGCGAGAGTCCAATCGTCCTCGTGAATATCCAAGATGGTCTCGTCCGAGTCAGAGTCCGAATCAAGAGGTGTCGGTAAGAGTAGGATCTGTTTGAGAGTCCTCCTATGGGTTTCGATCGATATCGGAAGTATCCTCTCATGATGTGAACGAAGTAGTGATCGATCGGTATGGGTTGGAGAGATAGGGAAAGGATAGATGAGTTTATGATGAAGAGATCGATCGTCCTCGGGTGTAAGGAGTAAGAGTGGTCAGTCGTGAGTGAGGTCGGAGAAAAGAATCGTCCAGATTGAATGAGTGAATTGTCGATTCCTGAGACTCCAATGAATCAATGTCTCGTGATGGAGTCCGATCCATGAGATTATAGAATAGTATCAGATTCGTCTAAGAATCTTGTCGGAGGAATTAAATTCCTCCGAGTTTAAAATCTAGGGATCTGATAGGTATCGATGATCGAGTCTATCTCGTTCTCGGATGTAAGTTGTTCCCCCCTGGGAAGTCCTCCGGTCGGAAAGTGGAGGTAGGTTGTCTTCGTCAGAGATGAAGTCCATCCCGAGATTTCCAAGTGATTCCGAAAGTCGTATGTCTAGGAGTCGTTTCGGAAGGTGAGAGTGTTCTCCCATATCGTCTAGTAGATGAGATTCTGAGAGTGAGAAGTAGATAGGTAAGGAGAGTCATAGATGAGTCGAGAGGGAGGAGTCGTACATGATGTATTGAGGTGAGAGAGAAGGTCGAATCCGTGTAAGTCATCCGATCTCTAAGTCTTGTCAAATCGGATCGTTATTCTCTCCATCTATAGGATGGATCGAGGAATTGAGAGAAGTAGAGTCTGAGAGGTAGAGTTACATCTAGAGAAGAGTCTCCGGGTAAGTAGATCGATTCCGGATATGTTCTCGGATCCGATCGATCCTCGAGGGTCGTCAGATGTCCCATGAGATGTGTAGAAGAGTTGTAAGATAGTAATCTGTAATGATCTTATGGAGTGATGTCAGGTCGAAGTTGGAGTCGTCGAAGATGTAATAGGAGATCGGAGATATGACTGGGAAAATTGATCCAGTCGATTGTTTCGTGTTGGTTAATATAGTGAAAATGAGGTCGTGAGAGACGAAACTCTCCGGATCGAGATGGTCTAATAGAAAGAGATGGAGAGGTCGTCGGGGTGATTCGTAGAAGAATTAGATAGGAAAAGTGAGTGGATGAGTCGGGTCATTGATCGAAATCCAGTAGTATGGAATATAATAGATGTCGAGAGTATTAGTCAGAGGGGAGATGAGAGTGTCGATAGAGTCAGATCGGGTGGGATTCGAAGTCTTGTGAGGAGGAGTCGAAGATCTAGTGGGGTTGGAGTGGATGGAGTGGATGTGTTCGAGTAAGTCCGATGATAGGATCCGATGATCAGAAAGGAGGAAGGAGATGTGAGTAGTGGATTTCCCAGATAAGAACTCGAGAATAGAATCTTAAGAAAAGTTTGATGAAGTCGATCTCGGAGGATATGTCGTGTCGATGAGTCGTCCTCACCTTATTCTGGAGTCGGAAAGAGGGGAGATGGTGTCGTCCAGGAGGTGATCTCCTAGTTCGGGGAAAAAGAAGTTTTCGTCTGTTCCTGGAAAGAAAATGTAAGGAGAAAGATCTAAGAGTTGTAGTGAATTTAGTGAGGGATAGAGTGTGAGATGTAGGATCAGAACTCGTCCTTCTCCGGGATCGATCAGGTTCCCAGGAGAGGAGTAGTAAGAGGGAGTTTTGTTCGATCATCCCTATCGGACCGAAAGGTCAAAACATGAAATCGTTCCTCCATGTTCGTGGTCCTCAATTCTAGTATTCCCGTAAGAAATAGATCGGAGGTAAGAGTAAAGTAGAGTTAGATGTATGTCGAAGAATTCTGAAAAAGATGTATCGGAAGAGAGAGGAACGATAGTTATAGAGAAACCAGTGGTTGTTGGTGGAGTTGAGTATGAACTAAAGATCGGAGTCATCGAGTCTGGAGGTCCATCATTGTCCCCTCCGATCCCGAGTCGGGGAATCCCTGGGGAAGGGTTGGTCGTAGAGGAATCTTCTAGAAGATGGGTCGATCAAGATGATATCGTAGGGTAGTCGGTGTTCTATAAGTCGAGGATCGAGTCAGTTGATCGTGTCTGGGAATCGAGATTGATCCCGATATCGTGTGATCTATGTCGGGGGGGATATAAAGTTCGTATCTATGAATCAAGAAATCAGAGTCTGGAAGTTAGTGGTATGTGGAATCGTGTGGGAGGGATAGAGGAGAGTCGGATAAGAGGAAAGATGGTTCGAGTTCAGGGGAGAGAGATGTGTCTCCACAGGGAGACGGTCTGAATTCGGAGATGTCAGTCCCGTCTAATCGTCAGAGTATTTGTTAGTCGGAAAATTCAAGGTCGAATATCGAGAGTATCAGGAGAGATTTCCCGGGATATCGTCCTGGGATCGAATAATGAGTCCGGTGATCGAGTCTGAGATCGTTTAAAAGATCTCGATCATCGATAGAAATAGGAGATGATAAGAAAAGGTGCTTAGAGATAGAGATGGAGGTCGATTCAGTGTCAGTAAGTAGATCCTCGAGGGGATGAGACCGGAAGGGAGAGTCAGATGGTCGAGTAGGTCCCCCCGAGTCATGGATCTCCGAGTAGAGAAATGTTCAGAGTTCGTCCGGAGGGGTCGAATCATATTTCTAGATTTCGGAGAGAGAGAATCGGTAGGAGTGTAGAGGAGTTTGTCTCAGTAGATCAGATAGTATCTTCGAGGTCAGGATCCGTCAGATTCAGGATTAGTGATAGAGAGATTGGAATATCGATTTTCTGATTTCCGAGTCATAGTCCAGAGATCCGAGATGAAAGTATCGTAGGAGGATTGTCGGTCGAGTTGATAGTAGATAGAGTGTGTCATGAGAATTTCGTGAAGTCAGTGATCGTGAGTCGGAGGATCGAGAGTGATCAGAGTGGAATCCGTGAGAGTCGAGGTAAAGGAAGTGAGAGATCCGACCCTTGGGTGGGATCCCAGTAGTGTTCCCCCATCCCCGATCAAGTGATGTGGGTTGATGAAAAGAGATCCTAGTATTCTAAGGTAGGATGATCGATGTCCGGGTCCCTCTCGGAAAATGAGAGAGAATAGGGAGGAAGGTTTATGAGGTCTCCCGATGTTCGGATGTGAGGAAGATGAAGAGTCGTTCTCAATCCCGTATCAAGAGATGGGTAGAGATCCGGATGTGTGTGATGGTCAATAGAGTAAGTACGAGGTTAGAAAGTCTAGGTAAGGAAGGAAATTAGAAGAATCAAGTTTAGTCGATGATTGATCTAGAATGTGTAAAATTCTGTGTCATGTGGAAGTATCGAGGTCGGATTCCTAGTCTGATGTATTTCAGGAGTGAGTGATAGTGTCAGTGTGTGTCCTATCTTAATTAGTGAGTCCTCCGTCAGATCCTGGGGTATATGGTTAGAGGGAAGGACTCGATGGAAGAGTCAGGAAGGTATCAAGTATCCTTGTGAGAATCCATCATTCCTTATCATGGATCGATCTCTGTCGTGAGTTGATCGTCGATGAGTCCAGGAATCCGTTTAGATAGATGAGGACGGAATGGAGTGTCCTCCCTTCGAGTATATTCTCTGGTGGTCAATATTGGGAATCTGTTCTCTATCCGTGACCTATCCATTCCTTCCAGTTCGAAGGGGTTCGATGTGATAAGTAGTCTGAAGAGGGAGGAGGGGGAGAAGTCGAGGTAGGTATTGTTCAGAGTCGTGAGGTATATCGATTGAGAGGAAAGAGGAGGTGGTCCCGAATCTTCGAGGTCTAAAGAGATGATGTCGATTGTCCGAAGGGAGAAAAGAGAATCCAGATTCAGATGAGTTCCTCCGGAGTCAGAGAAGGTCTGATCCCATGAGAAGTGAAGTCGATAGGATCAGGAGATCCGAGATAAGACTCGAGAGAGATATCGGATGGGAGAAAGAAGTAGAATCAGAGTCCTTGATGGGTCCGTATAGAGAATCCTGAGTGGAGTTGAATGTGGATCAATCGACAAGTCCCTGTTGAAGAATGATATTGGAATTATTAAGGTGAGGGAGAAAAGTAGAGGGAAGTGAGGATTAGGGTTCCCAGTCCTGAGAGATATATCTGGTTGTCGGTTCTCTTATTTCCCCGGGACGTCGAGTATGGATTTTCATTGTGTGGAGAGTGGTAAGAGGATATAGATAGAGAGTCGGTCAGTCGAGGATCGAGTGAATTTCCTGGATGTAGAGAGATCTACCGGTCGAGAGGGGGTCGGATAGAGAGTGTGATGGGAGTCGAATGAATTCGGATCCTGATAAGAAGGTCAGATGTGGATAATCCTGGGAGATTAGGTAAGGTAGAATGGTGGATGAGTCGAGAGAATTGAGAGAGGTATTTGATGATGGGAGGATAGATGGATGTGGAATGTCCCGTTCCCCCTGTAAAGTGTCCCGAGGTGATATTCCGAATGATGTGAATGTGCAGATGTCTGTGGGTCGATCTCGTGGAAAGATGTGAGTAAAAAGAGAGGGAGTGAGGTGTTAAGGATCCGGAGAATTTGGGAGGTGAGTGAGGTCAGGGGTGAGGAGAAGAAGTCATTTCTCATTCGGAGAGATGATCGTTCGGATCGGTATTGATTAGATCCGAAGAGTAGAGATCTTCTGGTTTTAAGAGATCGAGGAAGGATCGAGTCAGTTGTTGATCGGAGATTGTGGTTATTCCGTGAAGTCTGGAGGGTCGATGAGATCTTCGAAATATCCAGGAGAGAGATAGTGGTATTCATCGATAAGAGTCGTCAGATCAAAGTCCAAGTATATCTTCCGAAGAGTGTCTCCGGTATCGGACCGTGATTTGGGGAGTCGGGTGGAAGTGAAGAAATCAGATCAGAGTCGTAGATCCTGGATAGAGAGAAGTGAAATTAAGATCTCGGAGAGAGTATGAAATGACCTCAAGATTATAGGATTGAGGTCGTGAATCCCAGGAGTCTTGTAGAGATGAGGATTTGAATCGTCCCGAGGAGTCTACTCAGAGAAGTTGATCGAGATATAGTCTCGTTGAAATTCGGTCCGTACATTGGTGAGAAGTATGAATGAAGAAGAGGGGTCGGTTCCCGGTCGAAATGTGGAATAGAAAAGGTAGGATATGATTAGAATGTCAGGATCATCTCTCGAATCCATCAATAAGGATCTTTGAAGTGATCCCATCCCGTCCCATTGAATAGGAGTTCCAATGTCTGTGTCTCCTGAGGAAAGAGTATGTTATGAGAAGGTTGGATTCTGTTAGATCCCTCGGATGAGGTTCCGTTGTCCTATCCGGATAATCAGTGAGAAGAGGATCGGTATCTCGGTCCCGAGTGGAGATAGGTGGTAGAGATCGTCGATCGTGATGATCTCGATCCGTCATGAGTGAAGAGGGAGGTGAGTTCCCCCCAAGTTGAAAAATGATTCTCTCTAGGATTGAGTGAAATCTGGAGAAGTGTCAGAGAAGTAACGATAAGTTCATGTAGAAGGGTATGGTGGAAGGTGGAATCGTAGGATCAGATTTTCGGATCATCCCTGAGTTCTCTAAGAAGTATGATAAAGATGTCTGAGAGTCGAAGTTTCTCTTATCAGAGGTGTGGATCGGGAGGAGTTTCGAAACGAGTCGGTCAGAGTGAATAATGTGGAGAGTCCAGGAGTCTAGATAGGTTGGATGATTCATGTGAGATACTGTCAGTGAAATATTCTGTCTCAGTAGGGGTCAAAGAGAGAGGTTAAACGAGATCAGGGAGATAGCAGGGATCGAGTGAGATATTGAGATAATCAGGATCCTCTCGAGTAAGAAATTGATCATCGAATGGAATCATCCCGTCTCAGAGATTCGTAGAGTGATCTGTAGTGGAAAAGATCTGAAATGGGACCCTAATGTCAGAGGTTGATTTAAAGTCGAAGAAGAGAGGATCCCGAGTCGAGGAGGAGAGTTCATGAGGAGATCTCATGAGATGAGTGATTCTAAGGGAAGAGATCCATAGAGATCGATAGTTCGAATCCCGATCGAGGGAGGAGAGGAAAAAGATGAGTTAAGAGTAAGAGTTGTCTGGAGAGTAGATCGGATATCGGTAGTGAAATAGAAAGAGGATGTCTGTCCGAGATGAGATAATGGACTTTCGGTGATAGATGATCGAAATAGAGGATGTCATGTATGATACCGAAGTGAGTTTCCGAGAGATCGATGTCGAGAAGAGAAGAAGATAGAGAATGTTGAGTGATCCTGAGAGGTAATAGTAAGGGGGAGATTTTAATCCCGATGTCTCTACCTCCTAGTGATGAGAGGAATCCTGATGAGTAGGTGAGAATCCTGGAAGTGTCGTGGTAGAGTGGATCTCAGGTGTGTGTATCCCAGAGAGAATCTCCCCTATCTCGATAAGTTGATGACCCGAGGTCGAGTATGAAATTTAAGTGTGGGAAGGAGAGGGATCAACGCCCCAATAGAATATGTGTGGAGATATGGATATCGGATAAACTGAGGTAAGAAGTGTCGGAATATCGTAATTTTACTTTTAGTATCCGGATATAGTGTTCCGTCCATCGAGAGAATCCGAGAGAGTAGTTCCAGTTAGAATTGTATATCCTAGGAGTCCGATAGGTCGGATTTAAAAGAATTTCCTCCTCAGTGAATTCGAGGAGTGGTCAGAGAGTGGAATTAAAATGGAGATGGATGGAGAGGGGGATAGGAAAGAGTATCTCGTATCCAGGGAGTTAGGGTTGGAGAGTCATTCCTGTCCCATAGATCACGGGTCTAAAGTTTGAACTGGATGAGGTGAGAAGAAGTGGGTTGATGTCGAGTGAAATCTTCCCAGGTGATAGGGGACCTCTTCCCCCTCAACTCATTAATTTGATCAGAAGAGTCGTGTAGTCTCCTAAGTCCGTCTAGAGTGTGATTTTGAGGAGACATGTCAGAATATGAGAGGAGATCCGCATGAGTGGTCGGATTAATCCGTCGGAAGTAGATTAGGAGATGAGGATATTGTAGAGTCGAAAGTGAGGATCAAGAGAGTGGAAAGTCAGAGGTGAGAGTTGGATGAATCTGGGTTCCGAGAGATCAAGGAGTATGACTGAGGAGTCTCCTGGATGTGTCAAGTATGGATAGATTCCCCTAGATGACGGAGGACCGAGAATTGTGTAGTTCAGATCCGAAGGTTATCTTTCAGTGAGTCGGAGGGAGGTAGATTTCCGAGAAAGGGTAAATCCCTGAGAGTCAGTAAAAGTCTCCTCCCGTGAGATAGACGATTAGAAAGAGATGTTGAGAAGAGTCGGAATCCTCAAATCCGAGGAGAGAGTCGGGTATCGTGTATCTAGGTGGAAGGGATAGGTGGAGAGAGTCGAAGATCTAGGGATGATGATGGCCCGAAGAATGATCAATTCCGAGTCTCCCCTCGTCTCGTCTTCCATAATCCTGGTAGAGTAGGATCCAAACGAGGGAGGTCCGGAGATGATTCAGAGTAAAGAGTCCTGAAATGATCCTACTGATGTATAGAGTGGACTGTAGAGGTCCTTCCAATAGAAGGAATGGGGTCTTCCCGGATCAAAATCGGACGTGAGTCCATATAGTATGGAGTGGAGGAGGAAAGAAGAATGTCTGAGGAAGGAGTAAGATGAGTAGAAGGTTCTCGATCGTCGAGATATATGGAGATAATCCCATGGAGAGTAAGTAGTTCTGAAAAGAGAGGTGTCCGAGACGTGAGAGTGATAGGATGATCGAAAATTTATCTCCGGTGATCCGGTTCTCCGTATAGTATTCGTGGATCGGAGAGTTGTCTGAGTCTTGATAGGTAGAATCGAGTCGTGACTCGAGTCATAGAGGTCGTGTCGATCGATCTGATGAGAAGAGGGTAGATCCCCATCGAAGGGTAGATAGTCGATGTCAGAGAGTGCTGATCGAGGTGTATCTATGACCTCCAAGAGATGGAGAAAGATTCCTCAGTTCATCCGTTAAGAGTATATATCGAAATGTAGATCAGTGTTCGGAATCGTATGAGAGATTGAATCCTTCGTGGTGTGAGGAGGTAGAATGATGTGTGAGTCGTATTTGAGATATCATATAAGGAAGGTGTCAGTCATCGGATCGTAATTTCGGTAGGTCGTGAGAAGGTCGAAAAGGATGGAGAGGAGGTGTATCGTGTGACCTTCTCAATGTCAGTCAATTCGGGATGTATCGA\n",
      "\n"
     ]
    }
   ],
   "source": [
    "long_sequence_length = 10000\n",
    "long_sequence = generate_new_sequence(A_0, pi_0, n=long_sequence_length)\n",
    "\n",
    "print('\\n**********\\nObserved Frequencies in Random Sequence\\n**********')\n",
    "print(\"\\nA: \" + str(long_sequence.count('A')/long_sequence_length))\n",
    "print(\"T: \" + str(long_sequence.count('T')/long_sequence_length))\n",
    "print(\"G: \" + str(long_sequence.count('G')/long_sequence_length))\n",
    "print(\"C: \" + str(long_sequence.count('C')/long_sequence_length))\n",
    "\n",
    "print(\"\\n\\nThe sequence in question...\")\n",
    "print(\"\\n\" + \"\".join(long_sequence) + \"\\n\")"
   ]
  },
  {
   "cell_type": "markdown",
   "metadata": {},
   "source": [
    "### 2b. A Markov classifier (*) (20 pts)\n"
   ]
  },
  {
   "cell_type": "markdown",
   "metadata": {},
   "source": [
    "Having the prior and transition probabilities gives you the ability to evaluate the likelihood of a sequence for a given class as:\n",
    "$$\n",
    "P(\\mathbf{s}) = P(s_1|\\mathbf{\\pi}_c) \\prod_{i=1}^{n-1} P(s_{i+1}|s_{i},\\mathcal{A}_c),\n",
    "$$\n",
    "where $\\mathbf{\\pi}_c$ is the class-conditioned prior probability, and $\\mathcal{A}_c$ is the class-conditioned transition matrix.  Comparing the computed likelihood for a given sequence between different classes forms the basis of a classifier in a very similar manner to naive Bayes.  The difference this time is that now each random variable depends on the one before it in the sequence, whereas in naive Bayes we assumed that all the random variables were independent.    \n",
    "\n",
    "Load the file genes\\_test.p, which is similar to genes\\_training.p.  **For each sequence, compute the likelihood for both classes and assign a label.  Compare this predicted label to the known one, and report the test set accuracy**.  As a point of comparison, my implementation achieved 98.7\\% accuracy.  "
   ]
  },
  {
   "cell_type": "code",
   "execution_count": 23,
   "metadata": {},
   "outputs": [
    {
     "name": "stdout",
     "output_type": "stream",
     "text": [
      "Model Accuracy = 98.6%\n"
     ]
    }
   ],
   "source": [
    "sequences_test,labels_test = pickle.load(open('genes_test.p','rb'))\n",
    "\n",
    "# ***********************************\n",
    "# This array will hold the results of comparing our models estimate to the labeled sequence value.\n",
    "# If the model predicted sequence x correctly => model_predictions[x] = 1\n",
    "# If the model predicted sequence x incorectly => model_predictions[x] = 0\n",
    "# ***********************************\n",
    "model_predictions = [] \n",
    "\n",
    "# **************************\n",
    "# Compare P(sequence|Markov_1) and P(sequence|Markov_2)  => return classification (0, 1)\n",
    "# **************************\n",
    "def compareAndClassifySequence(prob_belongs_to_0, prob_belongs_to_1):\n",
    "    if(prob_belongs_to_0 > prob_belongs_to_1):\n",
    "        return 0\n",
    "    else:\n",
    "        return 1\n",
    "\n",
    "for s,l in zip(sequences_test, labels_test):\n",
    "    \n",
    "    # COMPUTE P(SEQUENCE|MARKOV_PROCESS_0)\n",
    "    prob_markov_0 = 1\n",
    "    for i in range(0, len(s)):\n",
    "        if(i == 0):\n",
    "            prob_markov_0 = pi_0[mapping(s[i])]\n",
    "        else:\n",
    "            prob_markov_0 *= A_0[mapping(s[i-1])][mapping(s[i])]\n",
    "            \n",
    "    # COMPUTE P(SEQUENCE|MARKOV_PROCESS_1)\n",
    "    prob_markov_1 = 1\n",
    "    for i in range(0, len(s)):\n",
    "        if(i == 0):\n",
    "            prob_markov_1 = pi_1[mapping(s[i])]\n",
    "        else:\n",
    "            prob_markov_1 *= A_1[mapping(s[i-1])][mapping(s[i])]\n",
    "    \n",
    "    classification = compareAndClassifySequence(prob_markov_0, prob_markov_1)\n",
    "    \n",
    "    # COMPARE PREDICED LABEL\n",
    "    if(classification == l):\n",
    "        model_predictions.append(1) # push 1 onto the array if we classified correctly\n",
    "    else:\n",
    "        model_predictions.append(0) # push 0 onto the array if we classified incorrectly\n",
    "\n",
    "total = len(model_predictions)\n",
    "num_correct = model_predictions.count(1)\n",
    "print(\"Model Accuracy = \" + str((num_correct/total) * 100) + \"%\")"
   ]
  },
  {
   "cell_type": "code",
   "execution_count": null,
   "metadata": {},
   "outputs": [],
   "source": []
  }
 ],
 "metadata": {
  "kernelspec": {
   "display_name": "Python 3",
   "language": "python",
   "name": "python3"
  },
  "language_info": {
   "codemirror_mode": {
    "name": "ipython",
    "version": 3
   },
   "file_extension": ".py",
   "mimetype": "text/x-python",
   "name": "python",
   "nbconvert_exporter": "python",
   "pygments_lexer": "ipython3",
   "version": "3.7.0"
  }
 },
 "nbformat": 4,
 "nbformat_minor": 2
}
